{
 "cells": [
  {
   "cell_type": "markdown",
   "metadata": {},
   "source": [
    "# Access an ASAM ODS EXD-API Plugin"
   ]
  },
  {
   "cell_type": "markdown",
   "metadata": {},
   "source": [
    "## Prepare Python Environment to Access GRPC Service"
   ]
  },
  {
   "cell_type": "code",
   "execution_count": 1,
   "id": "d55852a6-abe0-4af2-91a9-e311e33deadb",
   "metadata": {},
   "outputs": [],
   "source": [
    "# first time you need to install dependencies\n",
    "if False:\n",
    "    !python -m pip install --upgrade pip\n",
    "    !python -m pip install -U grpcio\n",
    "    !python -m pip install -U grpcio-tools\n",
    "    #!python -m grpc_tools.protoc --proto_path=. --pyi_out=. --python_out=. ods.proto\n",
    "    #!python -m grpc_tools.protoc -I. --pyi_out=. --python_out=. --grpc_python_out=. ods_external_data.proto"
   ]
  },
  {
   "cell_type": "code",
   "execution_count": 2,
   "id": "c1b80c2f-5830-425b-909e-fd2cf5b895d0",
   "metadata": {},
   "outputs": [],
   "source": [
    "import os\n",
    "import pathlib\n",
    "\n",
    "import grpc\n",
    "from google.protobuf.json_format import MessageToJson\n",
    "\n",
    "import ods_pb2\n",
    "import ods_external_data_pb2\n",
    "import ods_external_data_pb2_grpc"
   ]
  },
  {
   "cell_type": "markdown",
   "metadata": {},
   "source": [
    "## EXD-API\n",
    "\n",
    "The EXD-API plugin is running as a RPC service at a given URL.\n",
    "Running `exd_api_server.py`´will run the plugin at the given URL."
   ]
  },
  {
   "cell_type": "code",
   "execution_count": 3,
   "metadata": {},
   "outputs": [],
   "source": [
    "exd_api_plugin_url = \"localhost:50051\""
   ]
  },
  {
   "cell_type": "markdown",
   "metadata": {},
   "source": [
    "## Import Phase\n",
    "\n",
    "We will open a MDF4 file using the EXD-API and extract the internal structure of the file to import it into the ASAM ODS server."
   ]
  },
  {
   "cell_type": "code",
   "execution_count": 4,
   "id": "3c6367c9-5361-4229-96e1-57f7ff9de98e",
   "metadata": {},
   "outputs": [],
   "source": [
    "data_file_path = os.path.abspath('data/exampleA.raw')\n",
    "if not os.path.exists(data_file_path):\n",
    "    raise Exception('Data file is missing')"
   ]
  },
  {
   "cell_type": "code",
   "execution_count": 5,
   "id": "c1d79d60-bce7-4b9c-95e4-9be54734bd69",
   "metadata": {},
   "outputs": [
    {
     "name": "stdout",
     "output_type": "stream",
     "text": [
      "file://c:/Users/AKR/github/asam_ods_exd_api_IMCtermite/data/exampleA.raw\n"
     ]
    }
   ],
   "source": [
    "import_file_url = pathlib.Path(data_file_path).as_uri().replace('///', '//')\n",
    "import_file_parameters=\"\"\n",
    "print(import_file_url)\n",
    "\n",
    "# Will be filled from Structure\n",
    "access_file_url = None\n",
    "access_file_parameters = None"
   ]
  },
  {
   "cell_type": "markdown",
   "metadata": {},
   "source": [
    "### Extract Infos from Structure\n",
    "\n",
    "The structure contains infos about groups and channels to create corresponding measurements, submatrices and measurement_quantities"
   ]
  },
  {
   "cell_type": "code",
   "execution_count": 6,
   "metadata": {},
   "outputs": [
    {
     "name": "stdout",
     "output_type": "stream",
     "text": [
      "{\n",
      "  \"identifier\": {\n",
      "    \"url\": \"file://c:/Users/AKR/github/asam_ods_exd_api_IMCtermite/data/exampleA.raw\"\n",
      "  },\n",
      "  \"name\": \"exampleA.raw\",\n",
      "  \"groups\": [\n",
      "    {\n",
      "      \"name\": \"Mittelwert\",\n",
      "      \"totalNumberOfChannels\": \"2\",\n",
      "      \"numberOfRows\": \"1\",\n",
      "      \"channels\": [\n",
      "        {\n",
      "          \"dataType\": \"DT_DOUBLE\"\n",
      "        },\n",
      "        {\n",
      "          \"id\": \"1\",\n",
      "          \"name\": \"Mittelwert\",\n",
      "          \"dataType\": \"DT_DOUBLE\",\n",
      "          \"unitString\": \"V\"\n",
      "        }\n",
      "      ],\n",
      "      \"attributes\": {\n",
      "        \"variables\": {\n",
      "          \"comment\": {\n",
      "            \"stringArray\": {\n",
      "              \"values\": [\n",
      "                \"Me\\u00dfreihe 081\"\n",
      "              ]\n",
      "            }\n",
      "          },\n",
      "          \"description\": {\n",
      "            \"stringArray\": {\n",
      "              \"values\": [\n",
      "                \"TxBearbeiter - E.Mustermann - 0\"\n",
      "              ]\n",
      "            }\n",
      "          },\n",
      "          \"uuid\": {\n",
      "            \"stringArray\": {\n",
      "              \"values\": [\n",
      "                \"253\"\n",
      "              ]\n",
      "            }\n",
      "          },\n",
      "          \"origin\": {\n",
      "            \"stringArray\": {\n",
      "              \"values\": [\n",
      "                \"imc-FAMOS\"\n",
      "              ]\n",
      "            }\n",
      "          }\n",
      "        }\n",
      "      }\n",
      "    }\n",
      "  ]\n",
      "}\n"
     ]
    }
   ],
   "source": [
    "with grpc.insecure_channel(exd_api_plugin_url) as channel:\n",
    "    stub = ods_external_data_pb2_grpc.ExternalDataReaderStub(channel)\n",
    "\n",
    "    # import file into ASAM ODS Server physical storage\n",
    "    import_identifier = ods_external_data_pb2.Identifier(\n",
    "        url=import_file_url,\n",
    "        parameters=import_file_parameters)\n",
    "    \n",
    "    import_handle = stub.Open(import_identifier)\n",
    "    try:\n",
    "        structure = stub.GetStructure(\n",
    "            ods_external_data_pb2.StructureRequest(\n",
    "                handle=import_handle))\n",
    "        print(MessageToJson(structure))\n",
    "\n",
    "        access_file_url = structure.identifier.url\n",
    "        access_file_parameters = structure.identifier.parameters\n",
    "\n",
    "        for group in structure.groups:\n",
    "            group_id = group.id\n",
    "            for channel in group.channels:\n",
    "                channel_id = channel.id\n",
    "    finally:\n",
    "        stub.Close(import_handle)\n"
   ]
  },
  {
   "cell_type": "markdown",
   "metadata": {},
   "source": [
    "## Access Bulk Data\n",
    "\n",
    "With the stored information the ASAM ODS server can access the bulk data from the EXD-API plugin"
   ]
  },
  {
   "cell_type": "code",
   "execution_count": 7,
   "metadata": {},
   "outputs": [
    {
     "name": "stdout",
     "output_type": "stream",
     "text": [
      "{\n",
      "  \"channels\": [\n",
      "    {\n",
      "      \"values\": {\n",
      "        \"dataType\": \"DT_DOUBLE\",\n",
      "        \"doubleArray\": {\n",
      "          \"values\": [\n",
      "            0.0\n",
      "          ]\n",
      "        }\n",
      "      }\n",
      "    },\n",
      "    {\n",
      "      \"id\": \"1\",\n",
      "      \"values\": {\n",
      "        \"dataType\": \"DT_DOUBLE\",\n",
      "        \"doubleArray\": {\n",
      "          \"values\": [\n",
      "            -5.121809677944827e+58\n",
      "          ]\n",
      "        }\n",
      "      }\n",
      "    }\n",
      "  ]\n",
      "}\n"
     ]
    },
    {
     "ename": "_InactiveRpcError",
     "evalue": "<_InactiveRpcError of RPC that terminated with:\n\tstatus = StatusCode.INVALID_ARGUMENT\n\tdetails = \"Channel start index 3 out of range!\"\n\tdebug_error_string = \"UNKNOWN:Error received from peer  {grpc_message:\"Channel start index 3 out of range!\", grpc_status:3, created_time:\"2024-05-08T13:24:36.9784042+00:00\"}\"\n>",
     "output_type": "error",
     "traceback": [
      "\u001b[1;31m---------------------------------------------------------------------------\u001b[0m",
      "\u001b[1;31m_InactiveRpcError\u001b[0m                         Traceback (most recent call last)",
      "Input \u001b[1;32mIn [7]\u001b[0m, in \u001b[0;36m<cell line: 1>\u001b[1;34m()\u001b[0m\n\u001b[0;32m     26\u001b[0m     request\u001b[38;5;241m.\u001b[39mstart \u001b[38;5;241m=\u001b[39m \u001b[38;5;241m3\u001b[39m\n\u001b[0;32m     27\u001b[0m     request\u001b[38;5;241m.\u001b[39mlimit \u001b[38;5;241m=\u001b[39m \u001b[38;5;241m10\u001b[39m\n\u001b[1;32m---> 28\u001b[0m     values \u001b[38;5;241m=\u001b[39m \u001b[43mstub\u001b[49m\u001b[38;5;241;43m.\u001b[39;49m\u001b[43mGetValues\u001b[49m\u001b[43m(\u001b[49m\u001b[43mrequest\u001b[49m\u001b[43m)\u001b[49m\n\u001b[0;32m     29\u001b[0m     \u001b[38;5;28mprint\u001b[39m(MessageToJson(values))\n\u001b[0;32m     31\u001b[0m \u001b[38;5;28;01mfinally\u001b[39;00m:\n",
      "File \u001b[1;32mc:\\Python310\\lib\\site-packages\\grpc\\_channel.py:1181\u001b[0m, in \u001b[0;36m_UnaryUnaryMultiCallable.__call__\u001b[1;34m(self, request, timeout, metadata, credentials, wait_for_ready, compression)\u001b[0m\n\u001b[0;32m   1166\u001b[0m \u001b[38;5;28;01mdef\u001b[39;00m \u001b[38;5;21m__call__\u001b[39m(\n\u001b[0;32m   1167\u001b[0m     \u001b[38;5;28mself\u001b[39m,\n\u001b[0;32m   1168\u001b[0m     request: Any,\n\u001b[1;32m   (...)\u001b[0m\n\u001b[0;32m   1173\u001b[0m     compression: Optional[grpc\u001b[38;5;241m.\u001b[39mCompression] \u001b[38;5;241m=\u001b[39m \u001b[38;5;28;01mNone\u001b[39;00m,\n\u001b[0;32m   1174\u001b[0m ) \u001b[38;5;241m-\u001b[39m\u001b[38;5;241m>\u001b[39m Any:\n\u001b[0;32m   1175\u001b[0m     (\n\u001b[0;32m   1176\u001b[0m         state,\n\u001b[0;32m   1177\u001b[0m         call,\n\u001b[0;32m   1178\u001b[0m     ) \u001b[38;5;241m=\u001b[39m \u001b[38;5;28mself\u001b[39m\u001b[38;5;241m.\u001b[39m_blocking(\n\u001b[0;32m   1179\u001b[0m         request, timeout, metadata, credentials, wait_for_ready, compression\n\u001b[0;32m   1180\u001b[0m     )\n\u001b[1;32m-> 1181\u001b[0m     \u001b[38;5;28;01mreturn\u001b[39;00m \u001b[43m_end_unary_response_blocking\u001b[49m\u001b[43m(\u001b[49m\u001b[43mstate\u001b[49m\u001b[43m,\u001b[49m\u001b[43m \u001b[49m\u001b[43mcall\u001b[49m\u001b[43m,\u001b[49m\u001b[43m \u001b[49m\u001b[38;5;28;43;01mFalse\u001b[39;49;00m\u001b[43m,\u001b[49m\u001b[43m \u001b[49m\u001b[38;5;28;43;01mNone\u001b[39;49;00m\u001b[43m)\u001b[49m\n",
      "File \u001b[1;32mc:\\Python310\\lib\\site-packages\\grpc\\_channel.py:1006\u001b[0m, in \u001b[0;36m_end_unary_response_blocking\u001b[1;34m(state, call, with_call, deadline)\u001b[0m\n\u001b[0;32m   1004\u001b[0m         \u001b[38;5;28;01mreturn\u001b[39;00m state\u001b[38;5;241m.\u001b[39mresponse\n\u001b[0;32m   1005\u001b[0m \u001b[38;5;28;01melse\u001b[39;00m:\n\u001b[1;32m-> 1006\u001b[0m     \u001b[38;5;28;01mraise\u001b[39;00m _InactiveRpcError(state)\n",
      "\u001b[1;31m_InactiveRpcError\u001b[0m: <_InactiveRpcError of RPC that terminated with:\n\tstatus = StatusCode.INVALID_ARGUMENT\n\tdetails = \"Channel start index 3 out of range!\"\n\tdebug_error_string = \"UNKNOWN:Error received from peer  {grpc_message:\"Channel start index 3 out of range!\", grpc_status:3, created_time:\"2024-05-08T13:24:36.9784042+00:00\"}\"\n>"
     ]
    }
   ],
   "source": [
    "with grpc.insecure_channel(exd_api_plugin_url) as channel:\n",
    "    stub = ods_external_data_pb2_grpc.ExternalDataReaderStub(channel)\n",
    "\n",
    "    # info from physical storage\n",
    "    access_group_id = 0\n",
    "    access_channel_ids = [0, 1]\n",
    "    access_identifier = ods_external_data_pb2.Identifier(\n",
    "        url=access_file_url,\n",
    "        parameters=access_file_parameters)\n",
    "\n",
    "    # open bulk access\n",
    "    access_handle = stub.Open(access_identifier)\n",
    "    try:\n",
    "        request = ods_external_data_pb2.ValuesRequest(\n",
    "            handle=access_handle,\n",
    "            group_id=access_group_id,\n",
    "            channel_ids=access_channel_ids)\n",
    "\n",
    "        # read first chunk\n",
    "        request.start = 0\n",
    "        request.limit = 3\n",
    "        values = stub.GetValues(request)\n",
    "        print(MessageToJson(values))\n",
    "\n",
    "    finally:\n",
    "        stub.Close(access_handle)"
   ]
  }
 ],
 "metadata": {
  "kernelspec": {
   "display_name": "Python 3",
   "language": "python",
   "name": "python3"
  },
  "language_info": {
   "codemirror_mode": {
    "name": "ipython",
    "version": 3
   },
   "file_extension": ".py",
   "mimetype": "text/x-python",
   "name": "python",
   "nbconvert_exporter": "python",
   "pygments_lexer": "ipython3",
   "version": "3.10.5"
  }
 },
 "nbformat": 4,
 "nbformat_minor": 5
}
